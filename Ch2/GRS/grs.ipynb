{
 "cells": [
  {
   "cell_type": "markdown",
   "id": "d4013804",
   "metadata": {},
   "source": [
    "Reference:  \n",
    "https://doc.codingdict.com/sklearn/28/ inverse covmatrix  \n",
    "https://github.com/cran/GRS.test/blob/master/R/GRS.test.R code"
   ]
  },
  {
   "cell_type": "code",
   "execution_count": 372,
   "id": "dc000df6",
   "metadata": {},
   "outputs": [
    {
     "name": "stdout",
     "output_type": "stream",
     "text": [
      "{'F': 1.6048790340443542, 'F_p': 0.03585358766354907}\n"
     ]
    }
   ],
   "source": [
    "import pandas as pd\n",
    "import numpy as np \n",
    "import statsmodels.api as sm\n",
    "from scipy.stats import t\n",
    "from scipy.stats import f\n",
    "factor_mat=pd.read_csv('factor_mat.csv').iloc[:,1:]\n",
    "ret_mat=pd.read_csv('ret_mat.csv').iloc[:,1:]\n",
    "grs=grs_test(ret_mat,factor_mat)\n",
    "print(grs['stat'])"
   ]
  },
  {
   "cell_type": "code",
   "execution_count": 371,
   "id": "26c008ab",
   "metadata": {},
   "outputs": [],
   "source": [
    "def grs_test(ret_mat,factor_mat):\n",
    "    r_mat=ret_mat.values\n",
    "    f_mat=factor_mat.values\n",
    "    N=ret_mat.shape[1] #portfolio numbers\n",
    "    T=ret_mat.shape[0] #Time\n",
    "    K = factor_mat.shape[1]  #model factor\n",
    "\n",
    "    emat=np.zeros((T, N))\n",
    "    bmat=np.zeros((N, K+1)) #include intercept\n",
    "    semat=np.zeros((N, K+1))\n",
    "    r2mat=np.zeros((N, 1))\n",
    "    tmat=np.zeros((N, K+1))\n",
    "    pmat=np.zeros((N, K+1))\n",
    "    dat=sm.add_constant(f_mat)\n",
    "\n",
    "    for i in range(0,N):\n",
    "        ri=r_mat[:,i]\n",
    "        b=(np.linalg.inv(dat.T@dat)@dat.T)@ri #beta coef\n",
    "        e = ri -dat @b #residual\n",
    "        bmat[i,:] = b \n",
    "        emat[:,i]=e\n",
    "        r2mat[i] = 1-(np.sum(e**2)/np.sum((ri-np.mean(ri))**2))\n",
    "        s2=np.sum(e**2)/(T-K-1) #mse\n",
    "        covmat=np.linalg.inv(dat.T@dat)*s2 #precision matrix\n",
    "        semat[i,:]=np.diag(covmat)**0.5\n",
    "        tmat[i,:] = b/(np.diag(covmat)**0.5)\n",
    "        pmat[i,:]  = 2*(1 - t.cdf(abs(b/np.diag(covmat)**0.5), T-K-1))\n",
    "\n",
    "\n",
    "    sigma=(emat.T @emat )/(T-K-1) #error cov\n",
    "    alpha=bmat[:,0]\n",
    "    factor_mean=f_mat.mean(0)\n",
    "    omega=((f_mat-factor_mean).T @(f_mat-factor_mean))/(T-1) #demean factor cov\n",
    "    tem1=(alpha.T)@np.linalg.inv(sigma)@alpha\n",
    "    tem2=(factor_mean @ np.linalg.inv(omega)@(factor_mean.T))+1\n",
    "    tem3=T/N\n",
    "    tem4=(T-N-K)/(T-K-1)\n",
    "    F = tem3*tem4 *(tem1/tem2)\n",
    "    pF = 1-f.cdf(F, dfn=N, dfd=T-N-K)\n",
    "    if f_mat.shape[1] == 1:\n",
    "        factornames = [\"intercept\",\"Singlefactor\"] \n",
    "    else:\n",
    "        factornames = ['intercept']+list(factor_mat.columns)\n",
    "    retnames=list(ret_mat)\n",
    "\n",
    "    tab=['stat','b','e','t','p','se','r']\n",
    "    matlist=[bmat,emat,tmat,pmat,semat,r2mat]\n",
    "    result_dict=dict()\n",
    "    for i in tab:\n",
    "        result_dict[i]=dict()\n",
    "\n",
    "    for i in range(0,len(tab)):\n",
    "        if tab[i]=='stat':\n",
    "            result_dict[tab[i]]['F']=F\n",
    "            result_dict[tab[i]]['F_p']=pF\n",
    "        else:\n",
    "            mat=matlist[i-1]\n",
    "            if tab[i]!='r':\n",
    "                 for j in range(0,N):\n",
    "                    result_dict[tab[i]][retnames[j]]=mat[j,:]\n",
    "\n",
    "            else:\n",
    "                 for j in range(0,N):\n",
    "                    result_dict[tab[i]][retnames[j]]=mat[j]\n",
    "    return result_dict"
   ]
  },
  {
   "cell_type": "code",
   "execution_count": null,
   "id": "68586a2d",
   "metadata": {},
   "outputs": [],
   "source": []
  }
 ],
 "metadata": {
  "kernelspec": {
   "display_name": "py38_jq",
   "language": "python",
   "name": "py38_jq"
  },
  "language_info": {
   "codemirror_mode": {
    "name": "ipython",
    "version": 3
   },
   "file_extension": ".py",
   "mimetype": "text/x-python",
   "name": "python",
   "nbconvert_exporter": "python",
   "pygments_lexer": "ipython3",
   "version": "3.8.12"
  }
 },
 "nbformat": 4,
 "nbformat_minor": 5
}
