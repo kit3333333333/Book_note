{
 "cells": [
  {
   "cell_type": "markdown",
   "id": "a5af12c3",
   "metadata": {},
   "source": [
    "Reference\n",
    "https://www.jstor.org/stable/2685594  \n",
    "https://github.com/desaizeeshan22/OLS-with-Newey-West-Correction/blob/master/PS2Q2.py  \n",
    "https://github.com/aamanpandey/Newey-West-estimator/blob/master/Newey-West%20estimator_Code.txt  \n",
    "https://zhuanlan.zhihu.com/p/54913149"
   ]
  },
  {
   "cell_type": "code",
   "execution_count": 598,
   "id": "431ea36b",
   "metadata": {},
   "outputs": [],
   "source": [
    "import pandas as pd\n",
    "import numpy as np\n",
    "import statsmodels.formula.api as smf\n",
    "import statsmodels.api as sm\n",
    "import sys\n",
    "import numpy\n",
    "numpy.set_printoptions(threshold=sys.maxsize)\n",
    "data=pd.read_csv(\"data.csv\")"
   ]
  },
  {
   "cell_type": "code",
   "execution_count": 599,
   "id": "a6d4e0b0",
   "metadata": {},
   "outputs": [
    {
     "data": {
      "text/html": [
       "<div>\n",
       "<style scoped>\n",
       "    .dataframe tbody tr th:only-of-type {\n",
       "        vertical-align: middle;\n",
       "    }\n",
       "\n",
       "    .dataframe tbody tr th {\n",
       "        vertical-align: top;\n",
       "    }\n",
       "\n",
       "    .dataframe thead th {\n",
       "        text-align: right;\n",
       "    }\n",
       "</style>\n",
       "<table border=\"1\" class=\"dataframe\">\n",
       "  <thead>\n",
       "    <tr style=\"text-align: right;\">\n",
       "      <th></th>\n",
       "      <th>y</th>\n",
       "      <th>x1</th>\n",
       "      <th>x2</th>\n",
       "    </tr>\n",
       "  </thead>\n",
       "  <tbody>\n",
       "    <tr>\n",
       "      <th>0</th>\n",
       "      <td>53.00</td>\n",
       "      <td>2.0</td>\n",
       "      <td>2.03372</td>\n",
       "    </tr>\n",
       "    <tr>\n",
       "      <th>1</th>\n",
       "      <td>62.00</td>\n",
       "      <td>0.5</td>\n",
       "      <td>3.69980</td>\n",
       "    </tr>\n",
       "    <tr>\n",
       "      <th>2</th>\n",
       "      <td>97.00</td>\n",
       "      <td>9.0</td>\n",
       "      <td>4.57720</td>\n",
       "    </tr>\n",
       "    <tr>\n",
       "      <th>3</th>\n",
       "      <td>63.30</td>\n",
       "      <td>3.4</td>\n",
       "      <td>2.75830</td>\n",
       "    </tr>\n",
       "    <tr>\n",
       "      <th>4</th>\n",
       "      <td>5.20</td>\n",
       "      <td>9.5</td>\n",
       "      <td>6.23000</td>\n",
       "    </tr>\n",
       "    <tr>\n",
       "      <th>5</th>\n",
       "      <td>54.30</td>\n",
       "      <td>2.6</td>\n",
       "      <td>83.60000</td>\n",
       "    </tr>\n",
       "    <tr>\n",
       "      <th>6</th>\n",
       "      <td>12.80</td>\n",
       "      <td>6.3</td>\n",
       "      <td>50.20000</td>\n",
       "    </tr>\n",
       "    <tr>\n",
       "      <th>7</th>\n",
       "      <td>63.50</td>\n",
       "      <td>2.0</td>\n",
       "      <td>20.50000</td>\n",
       "    </tr>\n",
       "    <tr>\n",
       "      <th>8</th>\n",
       "      <td>30.44</td>\n",
       "      <td>4.5</td>\n",
       "      <td>4.75000</td>\n",
       "    </tr>\n",
       "    <tr>\n",
       "      <th>9</th>\n",
       "      <td>50.00</td>\n",
       "      <td>9.7</td>\n",
       "      <td>9.55000</td>\n",
       "    </tr>\n",
       "    <tr>\n",
       "      <th>10</th>\n",
       "      <td>93.20</td>\n",
       "      <td>8.5</td>\n",
       "      <td>25.80000</td>\n",
       "    </tr>\n",
       "  </tbody>\n",
       "</table>\n",
       "</div>"
      ],
      "text/plain": [
       "        y   x1        x2\n",
       "0   53.00  2.0   2.03372\n",
       "1   62.00  0.5   3.69980\n",
       "2   97.00  9.0   4.57720\n",
       "3   63.30  3.4   2.75830\n",
       "4    5.20  9.5   6.23000\n",
       "5   54.30  2.6  83.60000\n",
       "6   12.80  6.3  50.20000\n",
       "7   63.50  2.0  20.50000\n",
       "8   30.44  4.5   4.75000\n",
       "9   50.00  9.7   9.55000\n",
       "10  93.20  8.5  25.80000"
      ]
     },
     "execution_count": 599,
     "metadata": {},
     "output_type": "execute_result"
    }
   ],
   "source": [
    "data"
   ]
  },
  {
   "cell_type": "code",
   "execution_count": 600,
   "id": "c8f093ca",
   "metadata": {},
   "outputs": [
    {
     "name": "stdout",
     "output_type": "stream",
     "text": [
      "                            OLS Regression Results                            \n",
      "==============================================================================\n",
      "Dep. Variable:                      y   R-squared:                       0.017\n",
      "Model:                            OLS   Adj. R-squared:                 -0.229\n",
      "Method:                 Least Squares   F-statistic:                   0.06960\n",
      "Date:                Fri, 14 Jan 2022   Prob (F-statistic):              0.933\n",
      "Time:                        22:13:07   Log-Likelihood:                -51.937\n",
      "No. Observations:                  11   AIC:                             109.9\n",
      "Df Residuals:                       8   BIC:                             111.1\n",
      "Df Model:                           2                                         \n",
      "Covariance Type:            nonrobust                                         \n",
      "==============================================================================\n",
      "                 coef    std err          t      P>|t|      [0.025      0.975]\n",
      "------------------------------------------------------------------------------\n",
      "Intercept     58.4927     20.511      2.852      0.021      11.195     105.791\n",
      "x1            -0.5051      2.951     -0.171      0.868      -7.310       6.300\n",
      "x2            -0.1375      0.394     -0.349      0.736      -1.046       0.771\n",
      "==============================================================================\n",
      "Omnibus:                        0.004   Durbin-Watson:                   2.059\n",
      "Prob(Omnibus):                  0.998   Jarque-Bera (JB):                0.198\n",
      "Skew:                          -0.032   Prob(JB):                        0.906\n",
      "Kurtosis:                       2.346   Cond. No.                         67.6\n",
      "==============================================================================\n",
      "\n",
      "Notes:\n",
      "[1] Standard Errors assume that the covariance matrix of the errors is correctly specified.\n"
     ]
    },
    {
     "name": "stderr",
     "output_type": "stream",
     "text": [
      "C:\\Users\\antho\\anaconda3\\envs\\py38_jq\\lib\\site-packages\\scipy\\stats\\stats.py:1541: UserWarning: kurtosistest only valid for n>=20 ... continuing anyway, n=11\n",
      "  warnings.warn(\"kurtosistest only valid for n>=20 ... continuing \"\n"
     ]
    }
   ],
   "source": [
    "#ols with normal se\n",
    "reg=smf.ols('y ~ 1 + x1 + x2',data=data).fit()\n",
    "print(reg.summary())"
   ]
  },
  {
   "cell_type": "code",
   "execution_count": 601,
   "id": "7002b521",
   "metadata": {},
   "outputs": [
    {
     "name": "stdout",
     "output_type": "stream",
     "text": [
      "[20.51075028  2.95090377  0.39378159]\n"
     ]
    }
   ],
   "source": [
    "#ols matrix form\n",
    "x=sm.add_constant(data.iloc[:,1:].values)\n",
    "y=data.iloc[:,0].values\n",
    "b=np.linalg.solve(x.T@x,x.T@y)#coefficient\n",
    "e=y-x@b#residual\n",
    "mse=0\n",
    "for i in e**2:\n",
    "    mse+=i\n",
    "mse=mse/(x.shape[0]-x.shape[1])\n",
    "vb=mse*np.linalg.inv(x.T@x)\n",
    "#vb = e.var()*np.linalg.inv(x.T@x) #function var>n, not n-k-1\n",
    "se = np.sqrt(np.diagonal(vb))\n",
    "t = b/se\n",
    "print(se)"
   ]
  },
  {
   "cell_type": "code",
   "execution_count": 602,
   "id": "a12e8cdc",
   "metadata": {},
   "outputs": [
    {
     "name": "stdout",
     "output_type": "stream",
     "text": [
      "                            OLS Regression Results                            \n",
      "==============================================================================\n",
      "Dep. Variable:                      y   R-squared:                       0.017\n",
      "Model:                            OLS   Adj. R-squared:                 -0.229\n",
      "Method:                 Least Squares   F-statistic:                    0.2056\n",
      "Date:                Fri, 14 Jan 2022   Prob (F-statistic):              0.818\n",
      "Time:                        22:13:23   Log-Likelihood:                -51.937\n",
      "No. Observations:                  11   AIC:                             109.9\n",
      "Df Residuals:                       8   BIC:                             111.1\n",
      "Df Model:                           2                                         \n",
      "Covariance Type:                  HC0                                         \n",
      "==============================================================================\n",
      "                 coef    std err          z      P>|z|      [0.025      0.975]\n",
      "------------------------------------------------------------------------------\n",
      "Intercept     58.4927      7.970      7.339      0.000      42.872      74.114\n",
      "x1            -0.5051      2.508     -0.201      0.840      -5.420       4.410\n",
      "x2            -0.1375      0.234     -0.588      0.557      -0.596       0.321\n",
      "==============================================================================\n",
      "Omnibus:                        0.004   Durbin-Watson:                   2.059\n",
      "Prob(Omnibus):                  0.998   Jarque-Bera (JB):                0.198\n",
      "Skew:                          -0.032   Prob(JB):                        0.906\n",
      "Kurtosis:                       2.346   Cond. No.                         67.6\n",
      "==============================================================================\n",
      "\n",
      "Notes:\n",
      "[1] Standard Errors are heteroscedasticity robust (HC0)\n"
     ]
    },
    {
     "name": "stderr",
     "output_type": "stream",
     "text": [
      "C:\\Users\\antho\\anaconda3\\envs\\py38_jq\\lib\\site-packages\\scipy\\stats\\stats.py:1541: UserWarning: kurtosistest only valid for n>=20 ... continuing anyway, n=11\n",
      "  warnings.warn(\"kurtosistest only valid for n>=20 ... continuing \"\n"
     ]
    }
   ],
   "source": [
    "#HC0 robust se\n",
    "reg = smf.ols('y ~ 1 + x1 + x2',data=data).fit(cov_type='HC0')\n",
    "print(reg.summary())"
   ]
  },
  {
   "cell_type": "code",
   "execution_count": 603,
   "id": "11676ca8",
   "metadata": {},
   "outputs": [
    {
     "name": "stdout",
     "output_type": "stream",
     "text": [
      "7.970106846449044\n",
      "2.5076309922304434\n",
      "0.23395636232570802\n"
     ]
    }
   ],
   "source": [
    "#HC0 matrix form\n",
    "part2b_het=np.nan\n",
    "part1=np.linalg.inv(x.T @ x)\n",
    "part3=np.linalg.inv(x.T @ x)\n",
    "e_square=e**2\n",
    "part2a=x.T\n",
    "part2b_het=np.eye(x.shape[0])\n",
    "part2c=x\n",
    "#對角=單個殘差 不需要除n-k-1\n",
    "for i in range(0,len(e)):\n",
    "    part2b_het[i]*=e_square[i]\n",
    "hc0=part1@(part2a@part2b_het@part2c)@part3\n",
    "print(hc0[0][0]**0.5)\n",
    "print(hc0[1][1]**0.5)\n",
    "print(hc0[2][2]**0.5)"
   ]
  },
  {
   "cell_type": "code",
   "execution_count": 604,
   "id": "0ff10d1c",
   "metadata": {},
   "outputs": [
    {
     "name": "stdout",
     "output_type": "stream",
     "text": [
      "                            OLS Regression Results                            \n",
      "==============================================================================\n",
      "Dep. Variable:                      y   R-squared:                       0.017\n",
      "Model:                            OLS   Adj. R-squared:                 -0.229\n",
      "Method:                 Least Squares   F-statistic:                    0.1495\n",
      "Date:                Fri, 14 Jan 2022   Prob (F-statistic):              0.863\n",
      "Time:                        22:13:40   Log-Likelihood:                -51.937\n",
      "No. Observations:                  11   AIC:                             109.9\n",
      "Df Residuals:                       8   BIC:                             111.1\n",
      "Df Model:                           2                                         \n",
      "Covariance Type:                  HC1                                         \n",
      "==============================================================================\n",
      "                 coef    std err          z      P>|z|      [0.025      0.975]\n",
      "------------------------------------------------------------------------------\n",
      "Intercept     58.4927      9.346      6.259      0.000      40.175      76.810\n",
      "x1            -0.5051      2.940     -0.172      0.864      -6.268       5.258\n",
      "x2            -0.1375      0.274     -0.501      0.616      -0.675       0.400\n",
      "==============================================================================\n",
      "Omnibus:                        0.004   Durbin-Watson:                   2.059\n",
      "Prob(Omnibus):                  0.998   Jarque-Bera (JB):                0.198\n",
      "Skew:                          -0.032   Prob(JB):                        0.906\n",
      "Kurtosis:                       2.346   Cond. No.                         67.6\n",
      "==============================================================================\n",
      "\n",
      "Notes:\n",
      "[1] Standard Errors are heteroscedasticity robust (HC1)\n"
     ]
    },
    {
     "name": "stderr",
     "output_type": "stream",
     "text": [
      "C:\\Users\\antho\\anaconda3\\envs\\py38_jq\\lib\\site-packages\\scipy\\stats\\stats.py:1541: UserWarning: kurtosistest only valid for n>=20 ... continuing anyway, n=11\n",
      "  warnings.warn(\"kurtosistest only valid for n>=20 ... continuing \"\n"
     ]
    }
   ],
   "source": [
    "#HC1 robust se\n",
    "reg = smf.ols('y ~ 1 + x1 + x2',data=data).fit(cov_type='HC1')\n",
    "print(reg.summary())"
   ]
  },
  {
   "cell_type": "code",
   "execution_count": 605,
   "id": "15e64278",
   "metadata": {},
   "outputs": [
    {
     "name": "stdout",
     "output_type": "stream",
     "text": [
      "9.345778690015303\n",
      "2.940457981444834\n",
      "0.27433815224086533\n"
     ]
    }
   ],
   "source": [
    "#HC1 robust se\n",
    "part2b_het=np.nan\n",
    "part1=np.linalg.inv(x.T @ x)\n",
    "part3=np.linalg.inv(x.T @ x)\n",
    "e_square=e**2\n",
    "part2a=x.T\n",
    "part2b_het=np.eye(x.shape[0])\n",
    "part2c=x\n",
    "\n",
    "for i in range(0,len(e)):\n",
    "    part2b_het[i]*=e_square[i]\n",
    "hc0=part1@(part2a@part2b_het@part2c)@part3\n",
    "hc1=(x.shape[0]/(x.shape[0]-x.shape[1]))*hc0\n",
    "print(hc1[0][0]**0.5)\n",
    "print(hc1[1][1]**0.5)\n",
    "print(hc1[2][2]**0.5)"
   ]
  },
  {
   "cell_type": "code",
   "execution_count": 606,
   "id": "6ae775a4",
   "metadata": {},
   "outputs": [
    {
     "name": "stdout",
     "output_type": "stream",
     "text": [
      "                            OLS Regression Results                            \n",
      "==============================================================================\n",
      "Dep. Variable:                      y   R-squared:                       0.017\n",
      "Model:                            OLS   Adj. R-squared:                 -0.229\n",
      "Method:                 Least Squares   F-statistic:                    0.1346\n",
      "Date:                Fri, 14 Jan 2022   Prob (F-statistic):              0.876\n",
      "Time:                        22:14:18   Log-Likelihood:                -51.937\n",
      "No. Observations:                  11   AIC:                             109.9\n",
      "Df Residuals:                       8   BIC:                             111.1\n",
      "Df Model:                           2                                         \n",
      "Covariance Type:                  HC2                                         \n",
      "==============================================================================\n",
      "                 coef    std err          z      P>|z|      [0.025      0.975]\n",
      "------------------------------------------------------------------------------\n",
      "Intercept     58.4927      8.907      6.567      0.000      41.036      75.949\n",
      "x1            -0.5051      2.870     -0.176      0.860      -6.130       5.120\n",
      "x2            -0.1375      0.297     -0.463      0.643      -0.719       0.444\n",
      "==============================================================================\n",
      "Omnibus:                        0.004   Durbin-Watson:                   2.059\n",
      "Prob(Omnibus):                  0.998   Jarque-Bera (JB):                0.198\n",
      "Skew:                          -0.032   Prob(JB):                        0.906\n",
      "Kurtosis:                       2.346   Cond. No.                         67.6\n",
      "==============================================================================\n",
      "\n",
      "Notes:\n",
      "[1] Standard Errors are heteroscedasticity robust (HC2)\n"
     ]
    },
    {
     "name": "stderr",
     "output_type": "stream",
     "text": [
      "C:\\Users\\antho\\anaconda3\\envs\\py38_jq\\lib\\site-packages\\scipy\\stats\\stats.py:1541: UserWarning: kurtosistest only valid for n>=20 ... continuing anyway, n=11\n",
      "  warnings.warn(\"kurtosistest only valid for n>=20 ... continuing \"\n"
     ]
    }
   ],
   "source": [
    "#HC2 robust se\n",
    "reg = smf.ols('y ~ 1 + x1 + x2',data=data).fit(cov_type='HC2')\n",
    "print(reg.summary())"
   ]
  },
  {
   "cell_type": "code",
   "execution_count": 545,
   "id": "c1e8af0a",
   "metadata": {},
   "outputs": [
    {
     "name": "stdout",
     "output_type": "stream",
     "text": [
      "8.9066734469543\n",
      "2.869889038259061\n",
      "0.29683781079848015\n"
     ]
    }
   ],
   "source": [
    "#HC2 robust se\n",
    "part2b_het=np.nan\n",
    "part1=np.linalg.inv(x.T @ x)\n",
    "part3=np.linalg.inv(x.T @ x)\n",
    "e_square=e**2\n",
    "part2a=x.T\n",
    "part2b_het=np.eye(x.shape[0])\n",
    "part2c=x\n",
    "\n",
    "for i in range(0,len(e)):\n",
    "    hii=(np.reshape(x[i,:],(1,x.shape[1]))@part1@np.reshape(x.T[:,i],(x.shape[1],1)))\n",
    "    adjust_e=(e_square[i]/(1-hii))[0][0]\n",
    "    part2b_het[i]*=adjust_e\n",
    "hc2=part1@(part2a@part2b_het@part2c)@part3\n",
    "print(hc2[0][0]**0.5)\n",
    "print(hc2[1][1]**0.5)\n",
    "print(hc2[2][2]**0.5)"
   ]
  },
  {
   "cell_type": "code",
   "execution_count": 607,
   "id": "f8d70335",
   "metadata": {},
   "outputs": [
    {
     "name": "stdout",
     "output_type": "stream",
     "text": [
      "                            OLS Regression Results                            \n",
      "==============================================================================\n",
      "Dep. Variable:                      y   R-squared:                       0.017\n",
      "Model:                            OLS   Adj. R-squared:                 -0.229\n",
      "Method:                 Least Squares   F-statistic:                   0.07578\n",
      "Date:                Fri, 14 Jan 2022   Prob (F-statistic):              0.928\n",
      "Time:                        22:14:39   Log-Likelihood:                -51.937\n",
      "No. Observations:                  11   AIC:                             109.9\n",
      "Df Residuals:                       8   BIC:                             111.1\n",
      "Df Model:                           2                                         \n",
      "Covariance Type:                  HC3                                         \n",
      "==============================================================================\n",
      "                 coef    std err          z      P>|z|      [0.025      0.975]\n",
      "------------------------------------------------------------------------------\n",
      "Intercept     58.4927      9.987      5.857      0.000      38.918      78.068\n",
      "x1            -0.5051      3.301     -0.153      0.878      -6.975       5.964\n",
      "x2            -0.1375      0.421     -0.327      0.744      -0.963       0.688\n",
      "==============================================================================\n",
      "Omnibus:                        0.004   Durbin-Watson:                   2.059\n",
      "Prob(Omnibus):                  0.998   Jarque-Bera (JB):                0.198\n",
      "Skew:                          -0.032   Prob(JB):                        0.906\n",
      "Kurtosis:                       2.346   Cond. No.                         67.6\n",
      "==============================================================================\n",
      "\n",
      "Notes:\n",
      "[1] Standard Errors are heteroscedasticity robust (HC3)\n"
     ]
    },
    {
     "name": "stderr",
     "output_type": "stream",
     "text": [
      "C:\\Users\\antho\\anaconda3\\envs\\py38_jq\\lib\\site-packages\\scipy\\stats\\stats.py:1541: UserWarning: kurtosistest only valid for n>=20 ... continuing anyway, n=11\n",
      "  warnings.warn(\"kurtosistest only valid for n>=20 ... continuing \"\n"
     ]
    }
   ],
   "source": [
    "#HC3 robust se\n",
    "reg = smf.ols('y ~ 1 + x1 + x2',data=data).fit(cov_type='HC3')\n",
    "print(reg.summary())"
   ]
  },
  {
   "cell_type": "code",
   "execution_count": 608,
   "id": "f358c357",
   "metadata": {},
   "outputs": [
    {
     "name": "stdout",
     "output_type": "stream",
     "text": [
      "9.987359361003705\n",
      "3.300815345253009\n",
      "0.4209443524111706\n"
     ]
    }
   ],
   "source": [
    "#HC3 robust se\n",
    "part2b_het=np.nan\n",
    "part1=np.linalg.inv(x.T @ x)\n",
    "part3=np.linalg.inv(x.T @ x)\n",
    "e_square=e**2\n",
    "part2a=x.T\n",
    "part2b_het=np.eye(x.shape[0])\n",
    "part2c=x\n",
    "\n",
    "for i in range(0,len(e)):\n",
    "    hii=(np.reshape(x[i,:],(1,x.shape[1]))@part1@np.reshape(x.T[:,i],(x.shape[1],1)))\n",
    "    adjust_e=(e_square[i]/(1-hii)**2)[0][0]\n",
    "    part2b_het[i]*=adjust_e\n",
    "hc2=part1@(part2a@part2b_het@part2c)@part3\n",
    "print(hc2[0][0]**0.5)\n",
    "print(hc2[1][1]**0.5)\n",
    "print(hc2[2][2]**0.5)"
   ]
  },
  {
   "cell_type": "markdown",
   "id": "2209d6b8",
   "metadata": {},
   "source": [
    "White:part2b對角元素不用mse，轉用各殘差的平方(HC0)\n",
    "Newey and West:公式前半針對殘差異質 後半針對殘差相關(HAC)"
   ]
  },
  {
   "cell_type": "code",
   "execution_count": 609,
   "id": "71c6445d",
   "metadata": {},
   "outputs": [
    {
     "name": "stdout",
     "output_type": "stream",
     "text": [
      "                            OLS Regression Results                            \n",
      "==============================================================================\n",
      "Dep. Variable:                      y   R-squared:                       0.017\n",
      "Model:                            OLS   Adj. R-squared:                 -0.229\n",
      "Method:                 Least Squares   F-statistic:                    0.2588\n",
      "Date:                Fri, 14 Jan 2022   Prob (F-statistic):              0.778\n",
      "Time:                        22:15:53   Log-Likelihood:                -51.937\n",
      "No. Observations:                  11   AIC:                             109.9\n",
      "Df Residuals:                       8   BIC:                             111.1\n",
      "Df Model:                           2                                         \n",
      "Covariance Type:                  HAC                                         \n",
      "==============================================================================\n",
      "                 coef    std err          z      P>|z|      [0.025      0.975]\n",
      "------------------------------------------------------------------------------\n",
      "Intercept     58.4927      7.413      7.890      0.000      43.963      73.023\n",
      "x1            -0.5051      2.503     -0.202      0.840      -5.412       4.402\n",
      "x2            -0.1375      0.219     -0.628      0.530      -0.566       0.291\n",
      "==============================================================================\n",
      "Omnibus:                        0.004   Durbin-Watson:                   2.059\n",
      "Prob(Omnibus):                  0.998   Jarque-Bera (JB):                0.198\n",
      "Skew:                          -0.032   Prob(JB):                        0.906\n",
      "Kurtosis:                       2.346   Cond. No.                         67.6\n",
      "==============================================================================\n",
      "\n",
      "Notes:\n",
      "[1] Standard Errors are heteroscedasticity and autocorrelation robust (HAC) using 1 lags and without small sample correction\n"
     ]
    },
    {
     "name": "stderr",
     "output_type": "stream",
     "text": [
      "C:\\Users\\antho\\anaconda3\\envs\\py38_jq\\lib\\site-packages\\scipy\\stats\\stats.py:1541: UserWarning: kurtosistest only valid for n>=20 ... continuing anyway, n=11\n",
      "  warnings.warn(\"kurtosistest only valid for n>=20 ... continuing \"\n"
     ]
    }
   ],
   "source": [
    "#HAC robust se\n",
    "reg = smf.ols('y ~ 1 + x1 + x2',data=data).fit(cov_type='HAC',cov_kwds={'maxlags':1})\n",
    "print(reg.summary())"
   ]
  },
  {
   "cell_type": "code",
   "execution_count": 610,
   "id": "5e732ad8",
   "metadata": {},
   "outputs": [
    {
     "name": "stdout",
     "output_type": "stream",
     "text": [
      "7.413482712502961\n",
      "2.50348967865012\n",
      "0.2188026408605374\n"
     ]
    }
   ],
   "source": [
    "w=0.5\n",
    "part2b_het=np.nan\n",
    "part1=np.linalg.inv(x.T @ x)\n",
    "part3=np.linalg.inv(x.T @ x)\n",
    "e_square=e**2\n",
    "part2a=x.T\n",
    "part2b_het=np.eye(x.shape[0])\n",
    "part2c=x\n",
    "\n",
    "#het\n",
    "for i in range(0,len(e)):\n",
    "    part2b_het[i]*=e_square[i]\n",
    "\n",
    "#ar    \n",
    "for j in range(1,len(e)):\n",
    "    if j==1:\n",
    "        ar_p1=w*e[j]*e[j-1]\n",
    "        ar_p2=np.reshape(x[j,:],(x.shape[1],1))@np.reshape(x[j-1,:],(1,x.shape[1]))\n",
    "        ar_p3=np.reshape(x[j-1,:],(x.shape[1],1))@np.reshape(x[j,:],(1,x.shape[1]))\n",
    "        ar=ar_p1*(ar_p2+ar_p3)\n",
    "    else:\n",
    "        ar_p1=w*e[j]*e[j-1]\n",
    "        ar_p2=np.reshape(x[j,:],(x.shape[1],1))@np.reshape(x[j-1,:],(1,x.shape[1]))\n",
    "        ar_p3=np.reshape(x[j-1,:],(x.shape[1],1))@np.reshape(x[j,:],(1,x.shape[1]))\n",
    "        ar+=(ar_p1*(ar_p2+ar_p3))\n",
    "    \n",
    "hac=part1@((part2a@part2b_het@part2c)+ar)@part3\n",
    "print(test[0][0]**0.5) \n",
    "print(test[1][1]**0.5) \n",
    "print(test[2][2]**0.5) "
   ]
  }
 ],
 "metadata": {
  "kernelspec": {
   "display_name": "py38_jq",
   "language": "python",
   "name": "py38_jq"
  },
  "language_info": {
   "codemirror_mode": {
    "name": "ipython",
    "version": 3
   },
   "file_extension": ".py",
   "mimetype": "text/x-python",
   "name": "python",
   "nbconvert_exporter": "python",
   "pygments_lexer": "ipython3",
   "version": "3.8.12"
  }
 },
 "nbformat": 4,
 "nbformat_minor": 5
}
